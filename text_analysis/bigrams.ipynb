{
 "cells": [
  {
   "cell_type": "code",
   "execution_count": 1,
   "id": "b2d70bcf-ad98-4731-94dd-3418ed00e1ae",
   "metadata": {
    "tags": []
   },
   "outputs": [],
   "source": [
    "# The script is designed specifically for use in the JupyterHub environment, instructions on accessing it are in the Digilab environment: https://digilab.rara.ee/en/tools/access-to-dea-texts/#uagb-tabs__tab1. By modifying the script, bigrams could also be created for locally downloaded material.\n",
    "# TThe scripts are based on the scripts of the previous project, located here: https://doi.org/10.17605/OSF.IO/EBW24."
   ]
  },
  {
   "cell_type": "code",
   "execution_count": 2,
   "id": "69395072",
   "metadata": {
    "tags": []
   },
   "outputs": [],
   "source": [
    "suppressPackageStartupMessages(library(tidyverse,lib.loc=\"/gpfs/space/projects/digar_txt/R/4.3/\"))\n",
    "suppressPackageStartupMessages(library(tidytext,lib.loc=\"/gpfs/space/projects/digar_txt/R/4.3/\"))"
   ]
  },
  {
   "cell_type": "code",
   "execution_count": 3,
   "id": "89e9af00-e935-4fa9-99b5-34955df039fc",
   "metadata": {
    "tags": []
   },
   "outputs": [],
   "source": [
    "suppressPackageStartupMessages(library(digar.txts,lib.loc=\"/gpfs/space/projects/digar_txt/R/4.3/\"))"
   ]
  },
  {
   "cell_type": "code",
   "execution_count": 4,
   "id": "f4063625",
   "metadata": {
    "tags": []
   },
   "outputs": [],
   "source": [
    "library(tidyverse)\n",
    "library(tidytext)"
   ]
  },
  {
   "cell_type": "code",
   "execution_count": 5,
   "id": "3a26de3a",
   "metadata": {
    "tags": []
   },
   "outputs": [
    {
     "name": "stdout",
     "output_type": "stream",
     "text": [
      "[1] \"Issue metadata read\"\n"
     ]
    }
   ],
   "source": [
    "all_issues <- get_digar_overview()"
   ]
  },
  {
   "cell_type": "code",
   "execution_count": 6,
   "id": "d7dfb3ee",
   "metadata": {
    "tags": []
   },
   "outputs": [],
   "source": [
    "stopwords <- readLines(\"estonian-stopwords-lemmas.txt\")\n",
    "stopsonad <- data.frame(word = stopwords, stringsAsFactors = FALSE)"
   ]
  },
  {
   "cell_type": "code",
   "execution_count": 7,
   "id": "f1467c2a",
   "metadata": {
    "tags": []
   },
   "outputs": [],
   "source": [
    "exile_newspapers <- all_issues %>%\n",
    "    filter(DocumentType==\"NEWSPAPER\") %>%\n",
    "    filter(year>=1944&year<=1991) %>%\n",
    "    filter(keyid==\"estdagbladet\" | keyid==\"eestiteatajastock\" | keyid==\"stockholmstid\" | keyid==\"teatajapoliit\" | keyid==\"valiseesti\")"
   ]
  },
  {
   "cell_type": "code",
   "execution_count": 8,
   "id": "5b738ec2",
   "metadata": {
    "tags": []
   },
   "outputs": [],
   "source": [
    "# Without lemmas.\n",
    "#searchterm <- \"uus kodu\"\n",
    "#searchfile <- \"kodu.txt\"\n",
    "#do_subset_search(searchterm=searchterm, searchfile=searchfile, exile_newspapers, source=\"pages\")\n",
    "\n",
    "searchterm <- \"kodu\"\n",
    "searchfile <- \"kodu.txt\"\n",
    "do_subset_search(searchterm=searchterm, searchfile=searchfile, exile_newspapers, searchtype=\"lemmas\", source=\"pages\")"
   ]
  },
  {
   "cell_type": "code",
   "execution_count": 9,
   "id": "1f102d06",
   "metadata": {
    "tags": []
   },
   "outputs": [],
   "source": [
    "texts <- fread(\"kodu.txt\",header=F,sep=\"\\t\", quote=\"\")[,.(id=V1,lemmas=V2)]\n",
    "texts[,DocumentID:=str_extract(id,\"[^\\\\.]+\")]\n",
    "fileids_w_meta <- texts %>% select(id, DocumentID) %>% left_join(exile_newspapers %>% select(keyid, year, month, DocumentID, zippath_sections, zippath_pages), by=c(\"DocumentID\"))"
   ]
  },
  {
   "cell_type": "code",
   "execution_count": 10,
   "id": "ce6898bb",
   "metadata": {
    "tags": []
   },
   "outputs": [],
   "source": [
    "kodu_bigrams <- get_concordances(searchterm=searchterm,texts=texts,before=100,after=100,txt=\"lemmas\",id=\"id\")"
   ]
  },
  {
   "cell_type": "code",
   "execution_count": 11,
   "id": "610c2b79",
   "metadata": {
    "tags": []
   },
   "outputs": [],
   "source": [
    "kodu_concs <- kodu_bigrams[, !c(\"id\",\"nr\",\"begin\",\"end\")]\n",
    "\n",
    "write.table(kodu_concs, \"kodu_concs.txt\", sep=\"\\t\", quote = F, row.names = F)"
   ]
  },
  {
   "cell_type": "code",
   "execution_count": 12,
   "id": "8c815c16",
   "metadata": {
    "tags": []
   },
   "outputs": [],
   "source": [
    "kodu_concs2 <- str_replace_all(kodu_concs$context, \"\\\\|\", \"_\")\n",
    "\n",
    "kodu_concs3 <- as.data.frame(kodu_concs2, header = TRUE)\n",
    "colnames(kodu_concs3) <- \"context\""
   ]
  },
  {
   "cell_type": "code",
   "execution_count": 13,
   "id": "68ce7af4",
   "metadata": {
    "tags": []
   },
   "outputs": [],
   "source": [
    "bigrams_separated <- kodu_concs3 %>%\n",
    "  unnest_tokens(bigram, context, token = \"ngrams\", n = 2, n_min = 2) %>%\n",
    "  separate(bigram, c(\"word1\", \"word2\"), sep = \" \") %>%\n",
    "  filter(grepl(\"kodu\", word1) | grepl(\"kodu\", word2))"
   ]
  },
  {
   "cell_type": "code",
   "execution_count": 15,
   "id": "583e1da7",
   "metadata": {
    "tags": []
   },
   "outputs": [],
   "source": [
    "bigrams_filtered <- bigrams_separated %>%\n",
    "  filter(!word1 %in% stopsonad$word) %>%\n",
    "  filter(!word2 %in% stopsonad$word)"
   ]
  },
  {
   "cell_type": "code",
   "execution_count": 16,
   "id": "465ae856",
   "metadata": {
    "tags": []
   },
   "outputs": [],
   "source": [
    "bigram_counts <- bigrams_filtered %>% \n",
    "  count(word1, word2, sort = TRUE)\n",
    "\n",
    "top_1_percent <- bigram_counts %>%\n",
    "  arrange(desc(n)) %>%\n",
    "  slice_head(n = floor(0.0001 * nrow(.)))"
   ]
  },
  {
   "cell_type": "code",
   "execution_count": 20,
   "id": "3b194f95-4780-4e58-83ea-bc92f347a7ef",
   "metadata": {
    "tags": []
   },
   "outputs": [
    {
     "data": {
      "text/html": [
       "<table class=\"dataframe\">\n",
       "<caption>A data.frame: 20 × 3</caption>\n",
       "<thead>\n",
       "\t<tr><th></th><th scope=col>word1</th><th scope=col>word2</th><th scope=col>n</th></tr>\n",
       "\t<tr><th></th><th scope=col>&lt;chr&gt;</th><th scope=col>&lt;chr&gt;</th><th scope=col>&lt;int&gt;</th></tr>\n",
       "</thead>\n",
       "<tbody>\n",
       "\t<tr><th scope=row>1</th><td>eesti                 </td><td>kodu            </td><td>5943</td></tr>\n",
       "\t<tr><th scope=row>2</th><td>kodumaa               </td><td>lahkumine       </td><td>1718</td></tr>\n",
       "\t<tr><th scope=row>3</th><td>okupeerima_okupeeritud</td><td>kodumaa         </td><td>1169</td></tr>\n",
       "\t<tr><th scope=row>4</th><td>uus                   </td><td>kodu            </td><td> 938</td></tr>\n",
       "\t<tr><th scope=row>5</th><td>suvikodu              </td><td>kuratoorium     </td><td> 873</td></tr>\n",
       "\t<tr><th scope=row>6</th><td>laps                  </td><td>suvekodu        </td><td> 774</td></tr>\n",
       "\t<tr><th scope=row>7</th><td>vaba                  </td><td>kodumaa         </td><td> 760</td></tr>\n",
       "\t<tr><th scope=row>8</th><td>kodu                  </td><td>ruum            </td><td> 717</td></tr>\n",
       "\t<tr><th scope=row>9</th><td>kodu                  </td><td>eesti           </td><td> 715</td></tr>\n",
       "\t<tr><th scope=row>10</th><td>kodumaa               </td><td>vabastamine     </td><td> 672</td></tr>\n",
       "\t<tr><th scope=row>11</th><td>kodumaa               </td><td>eesti           </td><td> 592</td></tr>\n",
       "\t<tr><th scope=row>12</th><td>laps                  </td><td>suvikodu        </td><td> 526</td></tr>\n",
       "\t<tr><th scope=row>13</th><td>kodumaa               </td><td>saabuma_saabunud</td><td> 514</td></tr>\n",
       "\t<tr><th scope=row>14</th><td>eestlane              </td><td>kodumaa         </td><td> 513</td></tr>\n",
       "\t<tr><th scope=row>15</th><td>ikestama_ikestatud    </td><td>kodumaa         </td><td> 485</td></tr>\n",
       "\t<tr><th scope=row>16</th><td>olukord               </td><td>kodumaa         </td><td> 482</td></tr>\n",
       "\t<tr><th scope=row>17</th><td>suur                  </td><td>kodumaa         </td><td> 468</td></tr>\n",
       "\t<tr><th scope=row>18</th><td>rahvas                </td><td>kodumaa         </td><td> 457</td></tr>\n",
       "\t<tr><th scope=row>19</th><td>kodumaa               </td><td>vabadus         </td><td> 444</td></tr>\n",
       "\t<tr><th scope=row>20</th><td>kannatav              </td><td>kodumaa         </td><td> 437</td></tr>\n",
       "</tbody>\n",
       "</table>\n"
      ],
      "text/latex": [
       "A data.frame: 20 × 3\n",
       "\\begin{tabular}{r|lll}\n",
       "  & word1 & word2 & n\\\\\n",
       "  & <chr> & <chr> & <int>\\\\\n",
       "\\hline\n",
       "\t1 & eesti                  & kodu             & 5943\\\\\n",
       "\t2 & kodumaa                & lahkumine        & 1718\\\\\n",
       "\t3 & okupeerima\\_okupeeritud & kodumaa          & 1169\\\\\n",
       "\t4 & uus                    & kodu             &  938\\\\\n",
       "\t5 & suvikodu               & kuratoorium      &  873\\\\\n",
       "\t6 & laps                   & suvekodu         &  774\\\\\n",
       "\t7 & vaba                   & kodumaa          &  760\\\\\n",
       "\t8 & kodu                   & ruum             &  717\\\\\n",
       "\t9 & kodu                   & eesti            &  715\\\\\n",
       "\t10 & kodumaa                & vabastamine      &  672\\\\\n",
       "\t11 & kodumaa                & eesti            &  592\\\\\n",
       "\t12 & laps                   & suvikodu         &  526\\\\\n",
       "\t13 & kodumaa                & saabuma\\_saabunud &  514\\\\\n",
       "\t14 & eestlane               & kodumaa          &  513\\\\\n",
       "\t15 & ikestama\\_ikestatud     & kodumaa          &  485\\\\\n",
       "\t16 & olukord                & kodumaa          &  482\\\\\n",
       "\t17 & suur                   & kodumaa          &  468\\\\\n",
       "\t18 & rahvas                 & kodumaa          &  457\\\\\n",
       "\t19 & kodumaa                & vabadus          &  444\\\\\n",
       "\t20 & kannatav               & kodumaa          &  437\\\\\n",
       "\\end{tabular}\n"
      ],
      "text/markdown": [
       "\n",
       "A data.frame: 20 × 3\n",
       "\n",
       "| <!--/--> | word1 &lt;chr&gt; | word2 &lt;chr&gt; | n &lt;int&gt; |\n",
       "|---|---|---|---|\n",
       "| 1 | eesti                  | kodu             | 5943 |\n",
       "| 2 | kodumaa                | lahkumine        | 1718 |\n",
       "| 3 | okupeerima_okupeeritud | kodumaa          | 1169 |\n",
       "| 4 | uus                    | kodu             |  938 |\n",
       "| 5 | suvikodu               | kuratoorium      |  873 |\n",
       "| 6 | laps                   | suvekodu         |  774 |\n",
       "| 7 | vaba                   | kodumaa          |  760 |\n",
       "| 8 | kodu                   | ruum             |  717 |\n",
       "| 9 | kodu                   | eesti            |  715 |\n",
       "| 10 | kodumaa                | vabastamine      |  672 |\n",
       "| 11 | kodumaa                | eesti            |  592 |\n",
       "| 12 | laps                   | suvikodu         |  526 |\n",
       "| 13 | kodumaa                | saabuma_saabunud |  514 |\n",
       "| 14 | eestlane               | kodumaa          |  513 |\n",
       "| 15 | ikestama_ikestatud     | kodumaa          |  485 |\n",
       "| 16 | olukord                | kodumaa          |  482 |\n",
       "| 17 | suur                   | kodumaa          |  468 |\n",
       "| 18 | rahvas                 | kodumaa          |  457 |\n",
       "| 19 | kodumaa                | vabadus          |  444 |\n",
       "| 20 | kannatav               | kodumaa          |  437 |\n",
       "\n"
      ],
      "text/plain": [
       "   word1                  word2            n   \n",
       "1  eesti                  kodu             5943\n",
       "2  kodumaa                lahkumine        1718\n",
       "3  okupeerima_okupeeritud kodumaa          1169\n",
       "4  uus                    kodu              938\n",
       "5  suvikodu               kuratoorium       873\n",
       "6  laps                   suvekodu          774\n",
       "7  vaba                   kodumaa           760\n",
       "8  kodu                   ruum              717\n",
       "9  kodu                   eesti             715\n",
       "10 kodumaa                vabastamine       672\n",
       "11 kodumaa                eesti             592\n",
       "12 laps                   suvikodu          526\n",
       "13 kodumaa                saabuma_saabunud  514\n",
       "14 eestlane               kodumaa           513\n",
       "15 ikestama_ikestatud     kodumaa           485\n",
       "16 olukord                kodumaa           482\n",
       "17 suur                   kodumaa           468\n",
       "18 rahvas                 kodumaa           457\n",
       "19 kodumaa                vabadus           444\n",
       "20 kannatav               kodumaa           437"
      ]
     },
     "metadata": {},
     "output_type": "display_data"
    }
   ],
   "source": [
    "head(bigram_counts, 10)"
   ]
  }
 ],
 "metadata": {
  "kernelspec": {
   "display_name": "R 4.3",
   "language": "R",
   "name": "ir4.3v2"
  },
  "language_info": {
   "codemirror_mode": "r",
   "file_extension": ".r",
   "mimetype": "text/x-r-source",
   "name": "R",
   "pygments_lexer": "r",
   "version": "4.3.1"
  }
 },
 "nbformat": 4,
 "nbformat_minor": 5
}
