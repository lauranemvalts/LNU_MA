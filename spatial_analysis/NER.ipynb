{
 "cells": [
  {
   "cell_type": "code",
   "execution_count": null,
   "id": "2b85b0cb",
   "metadata": {},
   "outputs": [],
   "source": [
    "# Loading necessary libraries.\n",
    "import os\n",
    "from estnltk import Text"
   ]
  },
  {
   "cell_type": "code",
   "execution_count": null,
   "id": "b5f6c10d",
   "metadata": {},
   "outputs": [],
   "source": [
    "# Entering folder and output paths.\n",
    "folder_path = 'enter here folder path'\n",
    "output_folder = 'enter here output path'"
   ]
  },
  {
   "cell_type": "code",
   "execution_count": null,
   "id": "f665ff4e",
   "metadata": {},
   "outputs": [],
   "source": [
    "# Looping through the full texts of the newspapers.\n",
    "# As the text files of the newspapers are quite large, it is recommended to divide the files. With this scrips, the files were diveded by issue and publishing year.\n",
    "# The code is looping through the files and extracting named entities, writing entities tagged as locations into new file.\n",
    "for filename in os.listdir(folder_path):\n",
    "    if filename.endswith('.txt'):\n",
    "        file_path = os.path.join(folder_path, filename)\n",
    "        with open(file_path, \"r\", encoding=\"UTF-8\") as file_open:\n",
    "            file = file_open.read()\n",
    "            text = Text(file)\n",
    "            text.tag_layer(['ner'])\n",
    "            named_entities = text['ner']\n",
    "            locations = [entity.text for entity in named_entities if entity.nertag == 'LOC']\n",
    "            output_file_path = os.path.join(output_folder, filename[:-4] + \"_ner.txt\")\n",
    "            with open(output_file_path, 'w', encoding=\"utf-8\") as file_write:\n",
    "                for item in locations:\n",
    "                    file_write.write(str(item) + '\\n')\n",
    "            written_filename = os.path.basename(output_file_path)\n",
    "            print(f\"File {written_filename} has been written.\")"
   ]
  }
 ],
 "metadata": {
  "kernelspec": {
   "display_name": "Python 3 (ipykernel)",
   "language": "python",
   "name": "python3"
  },
  "language_info": {
   "codemirror_mode": {
    "name": "ipython",
    "version": 3
   },
   "file_extension": ".py",
   "mimetype": "text/x-python",
   "name": "python",
   "nbconvert_exporter": "python",
   "pygments_lexer": "ipython3",
   "version": "3.11.2"
  }
 },
 "nbformat": 4,
 "nbformat_minor": 5
}
