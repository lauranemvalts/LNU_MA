{
 "cells": [
  {
   "cell_type": "code",
   "execution_count": 1,
   "id": "3fcb0a44",
   "metadata": {},
   "outputs": [],
   "source": [
    "# Importing necessary libraries.\n",
    "import pandas as pd\n",
    "from estnltk import Text\n",
    "import os\n",
    "import re"
   ]
  },
  {
   "cell_type": "code",
   "execution_count": 2,
   "id": "4b1877c3",
   "metadata": {},
   "outputs": [],
   "source": [
    "# Entering the file path of the file august_91_ner.txt.\n",
    "file_path = \"C:/GitHub/lnu_ma/spatial_analysis/data/august_91_ner.txt\"\n",
    "output_folder = \"C:/GitHub/lnu_ma/spatial_analysis/data\""
   ]
  },
  {
   "cell_type": "code",
   "execution_count": 3,
   "id": "e0500ca2",
   "metadata": {},
   "outputs": [
    {
     "name": "stdout",
     "output_type": "stream",
     "text": [
      "File august_91_locations.txt has been written.\n"
     ]
    }
   ],
   "source": [
    "# Lemmatising the results from the NER. This code is meant for looping through the files.\n",
    "if file_path.endswith('.txt'):\n",
    "    file_path = os.path.join(file_path)\n",
    "    with open(file_path, \"r\", encoding=\"UTF-8\") as file_open:\n",
    "        file = file_open.read()\n",
    "        cleaned_text = re.sub(r'[\\[\\]\\'\\']', '', file)\n",
    "        locations = cleaned_text.split(\"\\n\")\n",
    "        # Create a list to store the lemmatised results\n",
    "        lemmatised_data = []\n",
    "\n",
    "        # Lemmatise each location\n",
    "        for location in locations:\n",
    "            words = location.split()\n",
    "            lemmatised_words = []\n",
    "\n",
    "            for word in words:\n",
    "                # Split the word based on hyphens\n",
    "                subwords = word.split('-')\n",
    "                lemmatised_subwords = []\n",
    "\n",
    "                for subword in subwords:\n",
    "                    text = Text(subword)\n",
    "                    text.tag_layer('morph_analysis')\n",
    "                    if text['morph_analysis']:\n",
    "                        lemmatised_subword = text['morph_analysis'][0].lemma[0] if text['morph_analysis'][0].lemma else subword\n",
    "                    else:\n",
    "                        lemmatised_subword = subword\n",
    "                    lemmatised_subwords.append(lemmatised_subword)\n",
    "\n",
    "                # Join the subwords with hyphens\n",
    "                lemmatised_word = '-'.join(lemmatised_subwords)\n",
    "                lemmatised_words.append(lemmatised_word)\n",
    "\n",
    "            lemmatised_location = ' '.join(lemmatised_words)\n",
    "            lemmatised_data.append({\"Original\": location, \"Lemmatised\": lemmatised_location})\n",
    "\n",
    "        # Convert the list of dictionaries to a DataFrame\n",
    "        lemmatised_df = pd.DataFrame(lemmatised_data)\n",
    "        output_file_path = os.path.join(output_folder, os.path.basename(file_path).replace('_ner', '_locations'))\n",
    "        lemmatised_df['Lemmatised'].to_csv(output_file_path, header=False, index=False, encoding=\"utf-8\", sep='\\t')\n",
    "        written_filename = os.path.basename(output_file_path)\n",
    "        print(f\"File {written_filename} has been written.\")"
   ]
  },
  {
   "cell_type": "code",
   "execution_count": null,
   "id": "30a90d5c",
   "metadata": {},
   "outputs": [],
   "source": [
    "# Entering folder and output paths in the case of looping through the files.\n",
    "folder_path = 'enter here folder path'\n",
    "output_folder = 'enter here output path'"
   ]
  },
  {
   "cell_type": "code",
   "execution_count": null,
   "id": "fa9b1136",
   "metadata": {
    "scrolled": true
   },
   "outputs": [],
   "source": [
    "# Lemmatising the results from the NER. This code is meant for looping through the files.\n",
    "for filename in os.listdir(folder_path):\n",
    "    if filename.endswith('.txt'):\n",
    "        file_path = os.path.join(folder_path, filename)\n",
    "        with open(file_path, \"r\", encoding=\"UTF-8\") as file_open:\n",
    "            file = file_open.read()\n",
    "            cleaned_text = re.sub(r'[\\[\\]\\'\\']', '', file)\n",
    "            locations = cleaned_text.split(\"\\n\")\n",
    "            # Create a list to store the lemmatised results\n",
    "            lemmatised_data = []\n",
    "\n",
    "            # Lemmatise each location\n",
    "            for location in locations:\n",
    "                words = location.split()\n",
    "                lemmatised_words = []\n",
    "\n",
    "                for word in words:\n",
    "                    # Split the word based on hyphens\n",
    "                    subwords = word.split('-')\n",
    "                    lemmatised_subwords = []\n",
    "\n",
    "                    for subword in subwords:\n",
    "                        text = Text(subword)\n",
    "                        text.tag_layer('morph_analysis')\n",
    "                        if text['morph_analysis']:\n",
    "                            lemmatised_subword = text['morph_analysis'][0].lemma[0] if text['morph_analysis'][0].lemma else subword\n",
    "                        else:\n",
    "                            lemmatised_subword = subword\n",
    "                        lemmatised_subwords.append(lemmatised_subword)\n",
    "\n",
    "                    # Join the subwords with hyphens\n",
    "                    lemmatised_word = '-'.join(lemmatised_subwords)\n",
    "                    lemmatised_words.append(lemmatised_word)\n",
    "\n",
    "                lemmatised_location = ' '.join(lemmatised_words)\n",
    "                lemmatised_data.append({\"Original\": location, \"Lemmatised\": lemmatised_location})\n",
    "\n",
    "            # Convert the list of dictionaries to a DataFrame\n",
    "            lemmatised_df = pd.DataFrame(lemmatised_data)\n",
    "            output_file_path = os.path.join(output_folder, filename.replace('_ner', '_locations'))\n",
    "            lemmatised_df['Lemmatised'].to_csv(output_file_path, header=False, index=False, encoding=\"utf-8\", sep='\\t')\n",
    "            written_filename = os.path.basename(output_file_path)\n",
    "            print(f\"File {written_filename} has been written.\")"
   ]
  }
 ],
 "metadata": {
  "kernelspec": {
   "display_name": "Python 3 (ipykernel)",
   "language": "python",
   "name": "python3"
  },
  "language_info": {
   "codemirror_mode": {
    "name": "ipython",
    "version": 3
   },
   "file_extension": ".py",
   "mimetype": "text/x-python",
   "name": "python",
   "nbconvert_exporter": "python",
   "pygments_lexer": "ipython3",
   "version": "3.11.2"
  }
 },
 "nbformat": 4,
 "nbformat_minor": 5
}
