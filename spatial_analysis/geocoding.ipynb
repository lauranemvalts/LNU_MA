{
 "cells": [
  {
   "cell_type": "code",
   "execution_count": null,
   "id": "7c37a2fc",
   "metadata": {},
   "outputs": [],
   "source": [
    "# Loading necessary libraries.\n",
    "import requests\n",
    "import csv"
   ]
  },
  {
   "cell_type": "code",
   "execution_count": null,
   "id": "42fc0dc4",
   "metadata": {},
   "outputs": [],
   "source": [
    "# Defining the API key for Google geocoding servide.\n",
    "api_key = 'enter here API key'\n",
    "\n",
    "# Entering file path.\n",
    "file_path = 'enter here file path'\n",
    "\n",
    "# Creating an empty list.\n",
    "updated_rows = []"
   ]
  },
  {
   "cell_type": "code",
   "execution_count": null,
   "id": "024d7b92",
   "metadata": {},
   "outputs": [],
   "source": [
    "# Looping through the locations and matching them with coordinates, if possible.\n",
    "coordinates_count = 0\n",
    "no_coordinates_count = 0\n",
    "\n",
    "with open(file_path, 'r', encoding='utf-8') as file:\n",
    "    reader = csv.reader(file, delimiter='\\t')\n",
    "    header = next(reader)\n",
    "    header.extend([\"lat\", \"lon\"])\n",
    "    updated_rows.append(header)\n",
    "\n",
    "    for row in reader:\n",
    "        address = row[0]\n",
    "        url = f\"https://maps.googleapis.com/maps/api/geocode/json?address={address}&key={api_key}\"\n",
    "        response = requests.get(url)\n",
    "        data = response.json()\n",
    "\n",
    "        if data[\"status\"] == \"OK\":\n",
    "            location = data[\"results\"][0][\"geometry\"][\"location\"]\n",
    "            latitude = location[\"lat\"]\n",
    "            longitude = location[\"lng\"]\n",
    "            row.extend([latitude, longitude])\n",
    "            coordinates_count += 1\n",
    "        elif data[\"status\"] == \"ZERO_RESULTS\":\n",
    "            print(f\"No coordinates found for {address}.\")\n",
    "            row.extend([\"\", \"\"])\n",
    "            no_coordinates_count += 1\n",
    "        else:\n",
    "            print(f\"Error for {address}: {data['status']}\")\n",
    "            row.extend([\"\", \"\"])\n",
    "            no_coordinates_count += 1\n",
    "\n",
    "        updated_rows.append(row)\n",
    "\n",
    "output_file_path = 'teatajapoliit_40s_coordinates.txt'\n",
    "with open(output_file_path, 'w', newline='', encoding='utf-8') as output_file:\n",
    "    writer = csv.writer(output_file, delimiter=',')\n",
    "    writer.writerows(updated_rows)\n",
    "\n",
    "total_places = coordinates_count + no_coordinates_count\n",
    "coordinates_percentage = (coordinates_count / total_places) * 100\n",
    "no_coordinates_percentage = (no_coordinates_count / total_places) * 100\n",
    "\n",
    "print(f\"Updated data written to {output_file_path}\")\n",
    "print(f\"Coordinates found for {coordinates_count} place names ({coordinates_percentage:.2f}%).\")\n",
    "print(f\"No coordinates found for {no_coordinates_count} place names ({no_coordinates_percentage:.2f}%).\")"
   ]
  }
 ],
 "metadata": {
  "kernelspec": {
   "display_name": "Python 3 (ipykernel)",
   "language": "python",
   "name": "python3"
  },
  "language_info": {
   "codemirror_mode": {
    "name": "ipython",
    "version": 3
   },
   "file_extension": ".py",
   "mimetype": "text/x-python",
   "name": "python",
   "nbconvert_exporter": "python",
   "pygments_lexer": "ipython3",
   "version": "3.11.2"
  }
 },
 "nbformat": 4,
 "nbformat_minor": 5
}
